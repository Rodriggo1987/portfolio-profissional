{
  "nbformat": 4,
  "nbformat_minor": 0,
  "metadata": {
    "colab": {
      "name": "IF_ELSE_ELIF.ipynb",
      "provenance": [],
      "authorship_tag": "ABX9TyMA2CSrf8y3pv4+WydpRqf8"
    },
    "kernelspec": {
      "name": "python3",
      "display_name": "Python 3"
    },
    "language_info": {
      "name": "python"
    }
  },
  "cells": [
    {
      "cell_type": "code",
      "execution_count": null,
      "metadata": {
        "id": "7kCMKuIsMsCL"
      },
      "outputs": [],
      "source": [
        "nome  = input('Digite seu nome: ')\n",
        "\n",
        "if nome == 'Rodrigo':\n",
        "  print('Seu nome é bonito Srº {}'.format(nome))\n",
        "else:\n",
        "  print('Seu nome é feio {}'.format(nome))  "
      ]
    },
    {
      "cell_type": "code",
      "source": [
        "nota1 = 5.2\n",
        "nota2 = 4.1\n",
        "media = (nota1 + nota2)/2\n",
        "\n",
        "if media >= 7.0:\n",
        "  print('Paabéns voce foi aprovador! {}'.format(media))\n",
        "else: \n",
        "  print('Cara voce precisa estudar mais! {}'.format(media))  \n"
      ],
      "metadata": {
        "id": "7OANsgMWPusx"
      },
      "execution_count": null,
      "outputs": []
    },
    {
      "cell_type": "code",
      "source": [
        "nota1 = 5.2\n",
        "nota2 = 6.1\n",
        "media = (nota1 + nota2)/2\n",
        "\n",
        "if media >= 7.0:\n",
        "  print('Paabéns voce foi aprovador! {}'.format(media))\n",
        "elif media > 5 and media < 7:\n",
        "  print('Voce fara a recuperação.')  \n",
        "else: \n",
        "  print('Voce foi reprovado, estude mais! {}'.format(media))  \n"
      ],
      "metadata": {
        "colab": {
          "base_uri": "https://localhost:8080/"
        },
        "id": "Ad_wk_2ORsL1",
        "outputId": "ebc01593-d5da-42b3-9d36-5c0c345ee03d"
      },
      "execution_count": null,
      "outputs": [
        {
          "output_type": "stream",
          "name": "stdout",
          "text": [
            "Voce fara a recuperação.\n"
          ]
        }
      ]
    },
    {
      "cell_type": "code",
      "source": [
        "peso = float(input('Digite seu Peso (kg): '))\n",
        "altura = float(input('Digite sua Altura (m): '))\n",
        "\n",
        "imc = peso / (altura**2)\n",
        "\n",
        "if imc < 17:\n",
        "  print('Muito abaixo do peso: {}'.format(imc))\n",
        "elif imc < 18.49:\n",
        "  print('Abaido do peso')\n",
        "elif imc < 29.99:\n",
        "   print('Acima do peso')  \n",
        "elif imc < 34.99:\n",
        "  print('Obesidade I')\n",
        "elif imc < 39.99:\n",
        "  print('Obesidade II')\n",
        "else: \n",
        "  print('Obesidade  III')         \n"
      ],
      "metadata": {
        "id": "58SBnvIfSJa2"
      },
      "execution_count": null,
      "outputs": []
    },
    {
      "cell_type": "code",
      "source": [
        "# DESAFIO: Simule uma transação enconomica entre um banco e uma pessoa. \n",
        "\n",
        "valor_conta = 1200\n",
        "saque =  300\n",
        "valor_final_dia = valor_conta - saque\n",
        "\n",
        "if valor_final_dia < valor_conta:\n",
        "  print('Este seu saldo do dia: {}'.format(valor_final_dia))"
      ],
      "metadata": {
        "colab": {
          "base_uri": "https://localhost:8080/"
        },
        "id": "ngvIr3JMd-3c",
        "outputId": "e3ebf9b1-e2e3-4ceb-8188-473466a7009a"
      },
      "execution_count": null,
      "outputs": [
        {
          "output_type": "stream",
          "name": "stdout",
          "text": [
            "Este seu saldo do dia: 900\n"
          ]
        }
      ]
    },
    {
      "cell_type": "code",
      "source": [
        "\n",
        "valor_conta_atual = float(input('Saldo da Conta: '))\n",
        "saque  = float(input('Valor saque de (R$): '))\n",
        "\n",
        "if saque:\n",
        "   print('Esse é seu valor apos o saque: {}'.format(valor_conta_atual-saque )) \n",
        "   \n",
        "elif saque <= 0 + valor_conta_atual + deposito:\n",
        "   print('Este é seu valor apos deposito: {}'.format(valor_conta_atual + deposito))\n",
        "\n",
        "deposito = float(input('Digite o valor do deposito: '))\n",
        "print('Valor em conta apos o deposito R$: {}'.format(deposito +  valor_conta_atual - saque))\n",
        "\n"
      ],
      "metadata": {
        "id": "qOFBjyu4lgHt"
      },
      "execution_count": null,
      "outputs": []
    },
    {
      "cell_type": "code",
      "source": [
        "valor_final_dia = deposito +  valor_conta_atual - saque\n",
        "extrato = []\n",
        "extrato.append(valor_final_dia)\n",
        "print('Extrato de (R$): ', extrato[0])\n"
      ],
      "metadata": {
        "colab": {
          "base_uri": "https://localhost:8080/"
        },
        "id": "pSj-A0F5sHjy",
        "outputId": "017f6a0e-139b-4c92-d3ad-aeca7a556761"
      },
      "execution_count": null,
      "outputs": [
        {
          "output_type": "stream",
          "name": "stdout",
          "text": [
            "Extrato de (R$):  1400.0\n"
          ]
        }
      ]
    }
  ]
}